{
    "cells": [
        {
            "cell_type": "markdown",
            "metadata": {
                "collapsed": true
            },
            "source": "### Introduction / The Problem Statement\nSome Investors have reached out to us to inform us of their intention to explore the possibility of investing about US$200million in any viable part of Nigeria, one of the most populous countries in the sub-saharan Africa. SInce they will be investing in consumer products, specifically in the establishment of upscale one-stop-shop mega mall. The investors will like to know the most viable region (state) in Nigeria with high purchasing power and well populated city where their business will be able to serve lots of customers, thrive and also maximize profits.\nAs an investment destination though still a developing country, investors want their businesses to be located where there will be necessary amenities and infrastructures. Connected and integrated transportation will be key while telecommunication should be available.\n"
        },
        {
            "cell_type": "markdown",
            "metadata": {},
            "source": "### About Nigeria\nNigeria is a prominent country in Africa, with an estimated population of about 200 million million people with English language as the national language. The country measures about 923,000 Km and sorrounded by 4 different other nations that are all Francophone countries. The border is shared in the North with Chad and Niger republic, in the east with Cameroun, and in the west with Benin republic while the entire south is bordered by the Atlantic ocean. Nigeria has 36 states and a federal capital territory, with the nation classifed under six geopolitical zones namely: North West, North Central, North East, South West, South South, and South East. There are 3 prominent native languages spoken by the people which are Yoruba, Igbo and Hausa.\nThe country is a major economic hub and powerhouse in Africa with Gross Domestic Product (GDP) of US449.1billion according to the World Bank in 2019. The country is also regarded as the largest economy in Africa. It is the largest oil producer in Africa."
        },
        {
            "cell_type": "markdown",
            "metadata": {},
            "source": "### Data / Methodology\nData will be accessed and obtained from multiple channels like wikipedia showing the list of Nigeria regions (states) by GDP, by population, by area and by Human Development Index (HDI). Data about Nigeria will also be obtained from data.humdata.org about Nigeria population. \nI will use Pandas and Numpy to read the files and do some data manipulation and clean up. BeautifulSoup will be used to scrape the tables from Wikipedia pages. All the data will be merged and some descriptive and exploratory analysis will be performed to narrow down to a preferrable region (state) based on the problem statement expectations. \nAfter identifying the most viable region (state), I will obtain the geolocation details using Geolocator. Then I will use the Foursquare API to comb the city for major business features in this choice region. Finally, I will segment and cluster using the K-means clustering tool to obtain concentration of schools, restaurants, coffee shops, grocery stores, supermarkets, and many other notable businesses around the city.\nWith this, it will be easy for a data-backed proposition to be made for the final decisioning by the investors."
        },
        {
            "cell_type": "code",
            "execution_count": null,
            "metadata": {},
            "outputs": [],
            "source": ""
        }
    ],
    "metadata": {
        "kernelspec": {
            "display_name": "Python 3.6",
            "language": "python",
            "name": "python3"
        },
        "language_info": {
            "codemirror_mode": {
                "name": "ipython",
                "version": 3
            },
            "file_extension": ".py",
            "mimetype": "text/x-python",
            "name": "python",
            "nbconvert_exporter": "python",
            "pygments_lexer": "ipython3",
            "version": "3.6.9"
        }
    },
    "nbformat": 4,
    "nbformat_minor": 1
}